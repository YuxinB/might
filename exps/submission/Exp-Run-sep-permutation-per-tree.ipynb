{
 "cells": [
  {
   "cell_type": "markdown",
   "id": "dbde8d72-a6ec-43a4-ba83-97392a118d66",
   "metadata": {},
   "source": [
    "# A comparison of permuting per tree, vs regular Coleman method"
   ]
  },
  {
   "cell_type": "code",
   "execution_count": 5,
   "id": "913686e9-697b-441e-8748-df2131fbde6e",
   "metadata": {},
   "outputs": [],
   "source": [
    "%load_ext autoreload\n",
    "%autoreload 2"
   ]
  },
  {
   "cell_type": "code",
   "execution_count": 6,
   "id": "8a2fe776-3477-4e19-8425-f30bba386b76",
   "metadata": {},
   "outputs": [],
   "source": [
    "import math\n",
    "import os\n",
    "from collections import defaultdict\n",
    "from itertools import product\n",
    "\n",
    "import matplotlib.pyplot as plt\n",
    "import numpy as np\n",
    "import pandas as pd\n",
    "import seaborn as sns\n",
    "from hyppo.conditional import ConditionalDcorr\n",
    "from joblib import Parallel, delayed\n",
    "from scipy.special import expit\n",
    "from scipy.stats import ortho_group\n",
    "from sklearn.datasets import (\n",
    "    make_blobs,\n",
    "    make_classification,\n",
    "    make_sparse_spd_matrix,\n",
    "    make_spd_matrix,\n",
    ")\n",
    "from sklearn.linear_model import LinearRegression, LogisticRegression\n",
    "from sklearn.metrics import roc_auc_score\n",
    "from sklearn.model_selection import (\n",
    "    StratifiedKFold,\n",
    "    StratifiedShuffleSplit,\n",
    "    cross_val_score,\n",
    ")\n",
    "from sklearn.neighbors import KNeighborsClassifier\n",
    "from sklearn.svm import SVC\n",
    "\n",
    "from sktree import HonestForestClassifier, RandomForestClassifier, RandomForestRegressor\n",
    "from sktree.datasets.multiview import make_gaussian_mixture, make_joint_factor_model\n",
    "from sktree.stats import (\n",
    "    FeatureImportanceForestClassifier,\n",
    "    FeatureImportanceForestRegressor,\n",
    "    PermutationForestRegressor,\n",
    "    PermutationTest,\n",
    ")\n",
    "from sktree.stats.utils import (\n",
    "    METRIC_FUNCTIONS,\n",
    "    POSITIVE_METRICS,\n",
    "    POSTERIOR_FUNCTIONS,\n",
    "    REGRESSOR_METRICS,\n",
    "    _compute_null_distribution_coleman,\n",
    "    _non_nan_samples,\n",
    ")\n",
    "from sktree.tree import DecisionTreeClassifier, MultiViewDecisionTreeClassifier\n",
    "\n",
    "seed = 12345\n",
    "rng = np.random.default_rng(seed)"
   ]
  },
  {
   "cell_type": "markdown",
   "id": "42080e93-6689-4c93-9f22-9bf912454683",
   "metadata": {},
   "source": [
    "# Run Co-MIGHT"
   ]
  },
  {
   "cell_type": "code",
   "execution_count": 7,
   "id": "d172c21b-291e-4ff5-bc94-5244cd38ec97",
   "metadata": {},
   "outputs": [],
   "source": [
    "def _run_parallel_comight(\n",
    "    idx, n_samples, seed, n_features_2, test_size, sim_type, rootdir, output_folder\n",
    "):\n",
    "    \"\"\"Run parallel job on pre-generated data.\n",
    "\n",
    "    Parameters\n",
    "    ----------\n",
    "    idx : int\n",
    "        The index of the pre-generated dataset, stored as npz file.\n",
    "    n_samples : int\n",
    "        The number of samples to keep.\n",
    "    seed : int\n",
    "        The random seed.\n",
    "    n_features_2 : int\n",
    "        The number of dimensions to keep in feature set 2.\n",
    "    test_size : float\n",
    "        The size of the test set to use for predictive-model based tests.\n",
    "    sim_type : str\n",
    "        The simulation type. Either 'independent', 'collider', 'confounder',\n",
    "        or 'direct-indirect'.\n",
    "    rootdir : str\n",
    "        The root directory where 'data/' and 'output/' will be.\n",
    "    run_cdcorr : bool, optional\n",
    "        Whether or not to run conditional dcorr, by default True.\n",
    "    \"\"\"\n",
    "    n_jobs = 1\n",
    "    n_features_ends = [100, None]\n",
    "\n",
    "    # set output directory to save npz files\n",
    "    output_dir = os.path.join(rootdir, f\"output/{output_folder}/{sim_type}/\")\n",
    "    os.makedirs(output_dir, exist_ok=True)\n",
    "\n",
    "    # load data\n",
    "    npy_data = np.load(os.path.join(rootdir, f\"data/{sim_type}/{sim_type}_{idx}.npz\"))\n",
    "\n",
    "    X = npy_data[\"X\"]\n",
    "    y = npy_data[\"y\"]\n",
    "\n",
    "    X = X[:, : 100 + n_features_2]\n",
    "    if n_samples < X.shape[0]:\n",
    "        cv = StratifiedShuffleSplit(n_splits=1, train_size=n_samples)\n",
    "        for train_idx, _ in cv.split(X, y):\n",
    "            continue\n",
    "        X = X[train_idx, :]\n",
    "        y = y[train_idx, ...].squeeze()\n",
    "    assert len(X) == len(y)\n",
    "    assert len(y) == n_samples\n",
    "    n_features_ends[1] = X.shape[1]\n",
    "\n",
    "    est = FeatureImportanceForestClassifier(\n",
    "        estimator=HonestForestClassifier(\n",
    "            n_estimators=n_estimators,\n",
    "            tree_estimator=MultiViewDecisionTreeClassifier(\n",
    "                max_features=[max_features, min(n_features_2, max_features * 100)],\n",
    "                feature_set_ends=n_features_ends,\n",
    "                apply_max_features_per_feature_set=True,\n",
    "            ),\n",
    "            random_state=seed,\n",
    "            honest_fraction=0.5,\n",
    "            n_jobs=n_jobs,\n",
    "        ),\n",
    "        random_state=seed,\n",
    "        test_size=test_size,\n",
    "        sample_dataset_per_tree=False,\n",
    "        permute_forest_fraction=1./n_estimators,\n",
    "    )\n",
    "\n",
    "    # now compute the pvalue when shuffling X2\n",
    "    covariate_index = np.arange(n_features_ends[0], n_features_ends[1])\n",
    "\n",
    "    # Estimate CMI with\n",
    "    mi_rf, pvalue = est.test(\n",
    "        X,\n",
    "        y,\n",
    "        covariate_index=covariate_index,\n",
    "        return_posteriors=True,\n",
    "        metric=\"mi\",\n",
    "    )\n",
    "    comight_posteriors_x2 = est.observe_posteriors_\n",
    "    comight_null_posteriors_x2 = est.permute_posteriors_\n",
    "\n",
    "    samples = est.observe_samples_\n",
    "    permute_samples = est.permute_samples_\n",
    "\n",
    "    assert np.isnan(comight_posteriors_x2[:, samples, :]).sum() == 0\n",
    "\n",
    "    np.savez(\n",
    "        os.path.join(output_dir, f\"comight_{n_samples}_{n_features_2}_{idx}.npz\"),\n",
    "        n_samples=n_samples,\n",
    "        n_features_2=n_features_2,\n",
    "        y_true=y,\n",
    "        comight_pvalue=pvalue,\n",
    "        comight_mi=mi_rf,\n",
    "        comight_posteriors_x2=comight_posteriors_x2,\n",
    "        comight_null_posteriors_x2=comight_null_posteriors_x2,\n",
    "    )"
   ]
  },
  {
   "cell_type": "code",
   "execution_count": 8,
   "id": "cc50188a-1d9a-4b0e-991d-a46f7149eb00",
   "metadata": {},
   "outputs": [
    {
     "name": "stdout",
     "output_type": "stream",
     "text": [
      "[4, 8, 16, 32, 64, 128, 256, 512, 1024, 2048, 4096]\n",
      "[64, 128, 256, 512, 1024]\n"
     ]
    }
   ],
   "source": [
    "# hard-coded parameters\n",
    "n_estimators = 500\n",
    "max_features = 0.3\n",
    "test_size = 0.2\n",
    "n_jobs = -1\n",
    "\n",
    "n_samples = 512\n",
    "n_features_2 = 4096\n",
    "\n",
    "max_fpr = 0.1\n",
    "\n",
    "# number of features in the second view\n",
    "pows = np.arange(2, 13, dtype=int)\n",
    "n_features_2_list = [2**pow for pow in pows]\n",
    "print(n_features_2_list)\n",
    "\n",
    "# n_samples_list = [2**x for x in range(6, 12)]\n",
    "n_samples_list = [2**x for x in range(6, 11)]\n",
    "print(n_samples_list)\n",
    "class_probs = [0.5, 0.5]"
   ]
  },
  {
   "cell_type": "markdown",
   "id": "f6d3f8f7-593e-4bf4-bebd-9fe0308fcac2",
   "metadata": {},
   "source": [
    "## Collider"
   ]
  },
  {
   "cell_type": "code",
   "execution_count": 3,
   "id": "3a8efe2d-c0bc-4851-9b80-85eda8f68a9e",
   "metadata": {},
   "outputs": [],
   "source": [
    "rootdir = \"/Users/adam2392/Desktop/cancer/\""
   ]
  },
  {
   "cell_type": "code",
   "execution_count": 4,
   "id": "3d8ffa67-5502-4a18-8057-fd502034d549",
   "metadata": {},
   "outputs": [
    {
     "name": "stdout",
     "output_type": "stream",
     "text": [
      "512 4096\n"
     ]
    }
   ],
   "source": [
    "print(n_samples, n_features_2)"
   ]
  },
  {
   "cell_type": "code",
   "execution_count": 240,
   "id": "ff761055-baef-4b67-8dce-61ff05d8f0c2",
   "metadata": {
    "scrolled": true
   },
   "outputs": [
    {
     "name": "stdout",
     "output_type": "stream",
     "text": [
      "done\n"
     ]
    }
   ],
   "source": [
    "Parallel(n_jobs=-1)(\n",
    "    delayed(_run_parallel_comight)(\n",
    "        idx_,\n",
    "        n_samples,\n",
    "        seed + 1,\n",
    "        n_features_2_,\n",
    "        test_size,\n",
    "        \"log_collider\",\n",
    "        rootdir,\n",
    "        \"varying-dimensionality-permute-per-tree\",\n",
    "    )\n",
    "    for (idx_, n_features_2_) in product(range(n_repeats), n_features_2_list)\n",
    ")\n",
    "\n",
    "print(\"done\")"
   ]
  },
  {
   "cell_type": "code",
   "execution_count": 241,
   "id": "53345816-655c-40d6-9ff0-0bf090a3f2dc",
   "metadata": {},
   "outputs": [
    {
     "name": "stdout",
     "output_type": "stream",
     "text": [
      "done\n"
     ]
    }
   ],
   "source": [
    "Parallel(n_jobs=-1)(\n",
    "    delayed(_run_parallel_comight)(\n",
    "        idx_,\n",
    "        n_samples_,\n",
    "        seed + 1,\n",
    "        n_features_2,\n",
    "        test_size,\n",
    "        \"log_collider\",\n",
    "        rootdir,\n",
    "        \"varying-samples\",\n",
    "    )\n",
    "    for (idx_, n_samples_) in product(range(n_repeats), n_samples_list)\n",
    ")\n",
    "print(\"done\")"
   ]
  },
  {
   "cell_type": "code",
   "execution_count": 139,
   "id": "5c2e7b2d-8b62-408b-8857-863a47c547cf",
   "metadata": {},
   "outputs": [
    {
     "name": "stdout",
     "output_type": "stream",
     "text": [
      "done\n"
     ]
    }
   ],
   "source": [
    "print(\"done\")"
   ]
  },
  {
   "cell_type": "markdown",
   "id": "d1b72d9f-42ee-4d5f-93d8-36c62084442a",
   "metadata": {},
   "source": [
    "## Confounder"
   ]
  },
  {
   "cell_type": "code",
   "execution_count": 224,
   "id": "b1593559-8064-4456-9cfc-1e16934cd9fd",
   "metadata": {},
   "outputs": [],
   "source": [
    "rootdir = \"/Users/adam2392/Desktop/cancer/\""
   ]
  },
  {
   "cell_type": "code",
   "execution_count": 225,
   "id": "4557198a-66d7-4dff-b632-211c5f42b598",
   "metadata": {},
   "outputs": [
    {
     "name": "stdout",
     "output_type": "stream",
     "text": [
      "512\n"
     ]
    }
   ],
   "source": [
    "print(n_samples)"
   ]
  },
  {
   "cell_type": "code",
   "execution_count": 226,
   "id": "64eb4efd-918d-40b1-89da-ca669b59ee73",
   "metadata": {
    "scrolled": true
   },
   "outputs": [
    {
     "name": "stdout",
     "output_type": "stream",
     "text": [
      "done\n"
     ]
    }
   ],
   "source": [
    "Parallel(n_jobs=-1)(\n",
    "    delayed(_run_parallel_comight)(\n",
    "        idx_,\n",
    "        n_samples,\n",
    "        seed + 1,\n",
    "        n_features_2_,\n",
    "        test_size,\n",
    "        \"confounder\",\n",
    "        rootdir,\n",
    "        \"varying-dimensionality\",\n",
    "    )\n",
    "    for (idx_, n_features_2_) in product(range(n_repeats), n_features_2_list)\n",
    ")\n",
    "\n",
    "print(\"done\")"
   ]
  },
  {
   "cell_type": "code",
   "execution_count": 197,
   "id": "385db60e-0ddb-43a1-bcb1-817e488d6cbc",
   "metadata": {},
   "outputs": [],
   "source": [
    "n_features_2 = 4096"
   ]
  },
  {
   "cell_type": "code",
   "execution_count": 198,
   "id": "e5506513-579e-48d8-8d07-1dbde7b4b788",
   "metadata": {},
   "outputs": [
    {
     "name": "stdout",
     "output_type": "stream",
     "text": [
      "done\n"
     ]
    }
   ],
   "source": [
    "Parallel(n_jobs=-1)(\n",
    "    delayed(_run_parallel_comight)(\n",
    "        idx_,\n",
    "        n_samples_,\n",
    "        seed + 1,\n",
    "        n_features_2,\n",
    "        test_size,\n",
    "        \"confounder\",\n",
    "        rootdir,\n",
    "        \"varying-samples\",\n",
    "    )\n",
    "    for (idx_, n_samples_) in product(range(n_repeats), n_samples_list)\n",
    ")\n",
    "print(\"done\")"
   ]
  },
  {
   "cell_type": "code",
   "execution_count": 199,
   "id": "3aad1460-ddf6-4063-858d-1f246f843966",
   "metadata": {},
   "outputs": [
    {
     "name": "stdout",
     "output_type": "stream",
     "text": [
      "done\n"
     ]
    }
   ],
   "source": [
    "print(\"done\")"
   ]
  },
  {
   "cell_type": "markdown",
   "id": "70361a6f-a59d-4c93-b90d-9cb43f99fb96",
   "metadata": {},
   "source": [
    "## Direct-Indirect (Linear)"
   ]
  },
  {
   "cell_type": "code",
   "execution_count": 227,
   "id": "16e502b4-7099-481a-84cb-be1da1020849",
   "metadata": {
    "scrolled": true
   },
   "outputs": [
    {
     "name": "stdout",
     "output_type": "stream",
     "text": [
      "done\n"
     ]
    }
   ],
   "source": [
    "Parallel(n_jobs=-1)(\n",
    "    delayed(_run_parallel_comight)(\n",
    "        idx_,\n",
    "        n_samples,\n",
    "        seed + 1,\n",
    "        n_features_2_,\n",
    "        test_size,\n",
    "        \"direct-indirect\",\n",
    "        rootdir,\n",
    "        \"varying-dimensionality\",\n",
    "    )\n",
    "    for (idx_, n_features_2_) in product(range(n_repeats), n_features_2_list)\n",
    ")\n",
    "\n",
    "print(\"done\")"
   ]
  },
  {
   "cell_type": "code",
   "execution_count": 228,
   "id": "a18c63d9-f071-4f25-a380-1c8127df4f8f",
   "metadata": {},
   "outputs": [],
   "source": [
    "n_features_2 = 4096"
   ]
  },
  {
   "cell_type": "code",
   "execution_count": null,
   "id": "fd6085a1-5b0a-42c0-a390-fc5210868b98",
   "metadata": {},
   "outputs": [],
   "source": [
    "Parallel(n_jobs=-1)(\n",
    "    delayed(_run_parallel_comight)(\n",
    "        idx_,\n",
    "        n_samples_,\n",
    "        seed + 1,\n",
    "        n_features_2,\n",
    "        test_size,\n",
    "        \"direct-indirect\",\n",
    "        rootdir,\n",
    "        \"varying-samples\",\n",
    "    )\n",
    "    for (idx_, n_samples_) in product(range(n_repeats), n_samples_list)\n",
    ")\n",
    "print(\"done\")"
   ]
  },
  {
   "cell_type": "code",
   "execution_count": null,
   "id": "94c25d9b-f0dd-4484-8c51-c7ee102c5479",
   "metadata": {},
   "outputs": [],
   "source": [
    "print(\"done\")"
   ]
  },
  {
   "cell_type": "markdown",
   "id": "ab3b97c7-8b29-4e27-97f1-22c05f9a4cb5",
   "metadata": {},
   "source": [
    "## Independent"
   ]
  },
  {
   "cell_type": "code",
   "execution_count": 229,
   "id": "5cc3b80d-1a9d-4248-8c52-c19e7ca30757",
   "metadata": {
    "scrolled": true
   },
   "outputs": [
    {
     "name": "stdout",
     "output_type": "stream",
     "text": [
      "done\n"
     ]
    }
   ],
   "source": [
    "Parallel(n_jobs=-1)(\n",
    "    delayed(_run_parallel_comight)(\n",
    "        idx_,\n",
    "        n_samples,\n",
    "        seed + 1,\n",
    "        n_features_2_,\n",
    "        test_size,\n",
    "        \"independent\",\n",
    "        rootdir,\n",
    "        \"varying-dimensionality\",\n",
    "    )\n",
    "    for (idx_, n_features_2_) in product(range(n_repeats), n_features_2_list)\n",
    ")\n",
    "\n",
    "print(\"done\")"
   ]
  },
  {
   "cell_type": "code",
   "execution_count": 230,
   "id": "b819a013-c2ce-4845-afcb-dfd8b37c14e0",
   "metadata": {},
   "outputs": [],
   "source": [
    "n_features_2 = 4096"
   ]
  },
  {
   "cell_type": "code",
   "execution_count": null,
   "id": "6288551c-a439-4a11-a77f-6c034e032b27",
   "metadata": {},
   "outputs": [],
   "source": [
    "Parallel(n_jobs=-1)(\n",
    "    delayed(_run_parallel_comight)(\n",
    "        idx_,\n",
    "        n_samples_,\n",
    "        seed + 1,\n",
    "        n_features_2,\n",
    "        test_size,\n",
    "        \"independent\",\n",
    "        rootdir,\n",
    "        \"varying-samples\",\n",
    "    )\n",
    "    for (idx_, n_samples_) in product(range(n_repeats), n_samples_list)\n",
    ")\n",
    "print(\"done\")"
   ]
  },
  {
   "cell_type": "code",
   "execution_count": null,
   "id": "448fa2b5-dd3b-462b-b8be-70757a457566",
   "metadata": {},
   "outputs": [],
   "source": [
    "print(\"done\")"
   ]
  }
 ],
 "metadata": {
  "kernelspec": {
   "display_name": "sktree",
   "language": "python",
   "name": "sktree"
  },
  "language_info": {
   "codemirror_mode": {
    "name": "ipython",
    "version": 3
   },
   "file_extension": ".py",
   "mimetype": "text/x-python",
   "name": "python",
   "nbconvert_exporter": "python",
   "pygments_lexer": "ipython3",
   "version": "3.9.18"
  }
 },
 "nbformat": 4,
 "nbformat_minor": 5
}
